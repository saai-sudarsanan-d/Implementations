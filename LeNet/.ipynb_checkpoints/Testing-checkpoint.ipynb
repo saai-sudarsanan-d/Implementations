{
 "cells": [
  {
   "cell_type": "code",
   "execution_count": 38,
   "id": "a9fb8cc1-c478-47af-9ce8-4cb07d084077",
   "metadata": {},
   "outputs": [],
   "source": [
    "# Import Required Libraries\n",
    "import torch\n",
    "import torch.nn as nn\n",
    "import torchvision\n",
    "import torchvision.transforms as transforms\n",
    "from torch.utils.data import Dataset,DataLoader,random_split\n",
    "import lenet\n",
    "import pandas as pd\n",
    "import numpy as np\n",
    "import matplotlib.pyplot as plt\n",
    "import math\n",
    "%matplotlib inline\n",
    "model = lenet.LeNet()"
   ]
  },
  {
   "cell_type": "code",
   "execution_count": 28,
   "id": "6ef1bcab-1b66-40d0-9bf4-77edf5b0faf8",
   "metadata": {},
   "outputs": [
    {
     "data": {
      "text/plain": [
       "<torch._C.Generator at 0x7ff380164f50>"
      ]
     },
     "execution_count": 28,
     "metadata": {},
     "output_type": "execute_result"
    }
   ],
   "source": [
    "np.random.seed(0)\n",
    "torch.manual_seed(0)"
   ]
  },
  {
   "cell_type": "code",
   "execution_count": 47,
   "id": "e5ebe78f-2966-4048-bff1-e144e1c49e7e",
   "metadata": {},
   "outputs": [],
   "source": [
    "# Set Device to CUDA or CPU based on availability\n",
    "device = \"cuda\" if torch.cuda.is_available() else \"cpu\""
   ]
  },
  {
   "cell_type": "code",
   "execution_count": 22,
   "id": "cf39018a-ac3c-4746-a1c2-1df417e086f2",
   "metadata": {},
   "outputs": [],
   "source": [
    "class DigitsDataset(Dataset):   \n",
    "    def __init__(self,train_dir,transform):\n",
    "        # Data Loading\n",
    "        self.train_dir = train_dir\n",
    "        self.dataset = pd.read_csv(train_dir)\n",
    "        self.transform = transform\n",
    "        \n",
    "    def __getitem__(self,idx):\n",
    "        # Dataset[0]\n",
    "        self.target = self.dataset.iloc[idx,0]\n",
    "        self.image = self.dataset.iloc[idx,1:].values\n",
    "        # Convert Array to Image\n",
    "        self.image = self.image.reshape((28,28))\n",
    "        self.image = self.transform(self.image)\n",
    "        \n",
    "        return self.image,self.target\n",
    "    \n",
    "    def __len__(self):\n",
    "        # Returns Number of Samples\n",
    "        return self.dataset.shape[0]"
   ]
  },
  {
   "cell_type": "code",
   "execution_count": 76,
   "id": "c08536af-0c05-461c-ba18-6cc0aede5a77",
   "metadata": {},
   "outputs": [
    {
     "name": "stdout",
     "output_type": "stream",
     "text": [
      "SIZE OF DATASET: 42000\n",
      "torch.Size([1, 32, 32])\n"
     ]
    },
    {
     "data": {
      "image/png": "[encoded data removed]",
      "text/plain": [
       "<Figure size 432x288 with 1 Axes>"
      ]
     },
     "metadata": {
      "needs_background": "light"
     },
     "output_type": "display_data"
    }
   ],
   "source": [
    "# Create an Object of DigitsDataset Class\n",
    "dataset = DigitsDataset('train.csv',transform = transforms.Compose(\n",
    "                                                    [transforms.ToTensor(),transforms.Pad(2)]))\n",
    "print(f'SIZE OF DATASET: {(len(dataset))}')\n",
    "# Visualise 1 sample\n",
    "image,target = dataset[3]\n",
    "print(image.shape)\n",
    "plt.imshow(np.transpose(image,(1,2,0)),cmap='gray')\n",
    "plt.title(f'Picture of {target}')\n",
    "plt.show()"
   ]
  },
  {
   "cell_type": "code",
   "execution_count": 77,
   "id": "dffa4acc-5435-4554-b06d-80f8e2c82ed4",
   "metadata": {},
   "outputs": [],
   "source": [
    "train_dataset,val_dataset = random_split(dataset,(32000,10000))"
   ]
  },
  {
   "cell_type": "code",
   "execution_count": 78,
   "id": "7ef63d0a-2fb7-41d1-b6b0-0c88b3da1291",
   "metadata": {},
   "outputs": [],
   "source": [
    "train_dl = DataLoader(dataset=train_dataset,shuffle=True,batch_size=4,num_workers=2)\n",
    "val_dl = DataLoader(dataset=val_dataset,shuffle=True,batch_size=4,num_workers=2)"
   ]
  },
  {
   "cell_type": "code",
   "execution_count": 79,
   "id": "bc18af71-792c-4154-9d0b-9d3537eddd81",
   "metadata": {},
   "outputs": [
    {
     "data": {
      "image/png": "[encoded data removed]",
      "text/plain": [
       "<Figure size 432x288 with 1 Axes>"
      ]
     },
     "metadata": {
      "needs_background": "light"
     },
     "output_type": "display_data"
    }
   ],
   "source": [
    "# get some random training images\n",
    "dataiter = iter(train_dl)\n",
    "images, labels = dataiter.next()\n",
    "plt.imshow(np.transpose(torchvision.utils.make_grid(images),(1,2,0)))\n",
    "plt.axis('off')\n",
    "plt.show()"
   ]
  },
  {
   "cell_type": "code",
   "execution_count": 82,
   "id": "3c640e78-81a4-4428-92f8-2924fa160b37",
   "metadata": {},
   "outputs": [],
   "source": [
    "epochs = 5\n",
    "criterion = nn.CrossEntropyLoss()\n",
    "opt = torch.optim.Adam(model.parameters(),lr=0.001)\n",
    "model = model.to(device)"
   ]
  },
  {
   "cell_type": "code",
   "execution_count": 103,
   "id": "dd6a086e-e8d8-4432-b979-cc43341ec7a6",
   "metadata": {},
   "outputs": [
    {
     "name": "stdout",
     "output_type": "stream",
     "text": [
      "torch.Size([4, 10])\n"
     ]
    }
   ],
   "source": [
    "out = model(images.float())\n",
    "print(out.shape)"
   ]
  },
  {
   "cell_type": "code",
   "execution_count": 107,
   "id": "d7460bef-518c-4c01-b384-18178581799d",
   "metadata": {},
   "outputs": [
    {
     "name": "stdout",
     "output_type": "stream",
     "text": [
      "[1,     1] loss: 0.000\n",
      "[1,  2001] loss: 0.065\n",
      "[1,  4001] loss: 0.133\n",
      "[1,  6001] loss: 0.210\n",
      "[2,     1] loss: 0.000\n",
      "[2,  2001] loss: 0.067\n",
      "[2,  4001] loss: 0.132\n",
      "[2,  6001] loss: 0.208\n",
      "[3,     1] loss: 0.000\n",
      "[3,  2001] loss: 0.057\n",
      "[3,  4001] loss: 0.122\n",
      "[3,  6001] loss: 0.179\n",
      "[4,     1] loss: 0.000\n",
      "[4,  2001] loss: 0.056\n",
      "[4,  4001] loss: 0.121\n",
      "[4,  6001] loss: 0.182\n",
      "[5,     1] loss: 0.000\n",
      "[5,  2001] loss: 0.075\n",
      "[5,  4001] loss: 0.118\n",
      "[5,  6001] loss: 0.181\n",
      "Training Over\n"
     ]
    }
   ],
   "source": [
    "for e in range(epochs):\n",
    "    model.train()\n",
    "    running_loss = 0.0\n",
    "    for idx,(imgs,labels) in enumerate(train_dl,0):\n",
    "        imgs = imgs.to(device)\n",
    "        labels = labels.to(device)\n",
    "        \n",
    "        opt.zero_grad()\n",
    "        \n",
    "        out = model(imgs.float())\n",
    "        loss = criterion(out,labels)\n",
    "        loss.backward()\n",
    "        opt.step()\n",
    "        \n",
    "        running_loss += loss.item()\n",
    "        if idx%2000 == 0:\n",
    "                print('[%d, %5d] loss: %.3f' %(e + 1, idx + 1, running_loss / 2000))\n",
    "print(\"Training Over\")"
   ]
  },
  {
   "cell_type": "code",
   "execution_count": 113,
   "id": "0dc4b44c-31c4-411e-8d50-4c9d41f3b817",
   "metadata": {},
   "outputs": [
    {
     "data": {
      "image/png": "[encoded data removed]",
      "text/plain": [
       "<Figure size 432x288 with 1 Axes>"
      ]
     },
     "metadata": {
      "needs_background": "light"
     },
     "output_type": "display_data"
    }
   ],
   "source": [
    "dataiter = iter(val_dl)\n",
    "images, labels = dataiter.next()\n",
    "\n",
    "# print images\n",
    "plt.imshow(np.transpose(torchvision.utils.make_grid(images),(1,2,0)))\n",
    "plt.axis('off')\n",
    "plt.show()"
   ]
  },
  {
   "cell_type": "code",
   "execution_count": 122,
   "id": "7ddbbf07-117e-450c-aae4-444e0adc0dda",
   "metadata": {},
   "outputs": [
    {
     "name": "stdout",
     "output_type": "stream",
     "text": [
      "Predicted:      9     3     6     2\n"
     ]
    }
   ],
   "source": [
    "outputs = model(images.float())\n",
    "_, predicted = torch.max(outputs, 1)\n",
    "\n",
    "print('Predicted: ', ' '.join('%5s' % range(10)[predicted[j]] for j in range(4)))"
   ]
  }
 ],
 "metadata": {
  "kernelspec": {
   "display_name": "Python 3",
   "language": "python",
   "name": "python3"
  },
  "language_info": {
   "codemirror_mode": {
    "name": "ipython",
    "version": 3
   },
   "file_extension": ".py",
   "mimetype": "text/x-python",
   "name": "python",
   "nbconvert_exporter": "python",
   "pygments_lexer": "ipython3",
   "version": "3.8.10"
  }
 },
 "nbformat": 4,
 "nbformat_minor": 5
}
